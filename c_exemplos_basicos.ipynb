{
 "cells": [
  {
   "cell_type": "markdown",
   "id": "181e887f",
   "metadata": {},
   "source": [
    "# Um notebook com 20 exemplos de códigos mais usados na linguagem C\n",
    "Este notebook contém exemplos práticos e explicações em português brasileiro para ajudar no aprendizado da linguagem C."
   ]
  },
  {
   "cell_type": "markdown",
   "id": "afed5e77",
   "metadata": {},
   "source": [
    "## Importação de Bibliotecas\n",
    "Demonstre como incluir bibliotecas padrão em C, como stdio.h e stdlib.h."
   ]
  },
  {
   "cell_type": "code",
   "execution_count": null,
   "id": "9e9b9b2c",
   "metadata": {
    "vscode": {
     "languageId": "c"
    }
   },
   "outputs": [],
   "source": [
    "#include &lt;stdio.h&gt;\n",
    "#include &lt;stdlib.h&gt;\n",
    "\n",
    "// Incluímos as bibliotecas padrão para entrada/saída e funções utilitárias."
   ]
  },
  {
   "cell_type": "markdown",
   "id": "cd91aaa8",
   "metadata": {},
   "source": [
    "## Exemplo 1: Hello World\n",
    "Escreva um programa simples que imprime 'Hello, World!' na tela."
   ]
  },
  {
   "cell_type": "code",
   "execution_count": null,
   "id": "4d6c1202",
   "metadata": {
    "vscode": {
     "languageId": "c"
    }
   },
   "outputs": [],
   "source": [
    "#include &lt;stdio.h&gt;\n",
    "\n",
    "int main() {\n",
    "    printf(\"Hello, World!\\\\n\");\n",
    "    return 0;\n",
    "}"
   ]
  },
  {
   "cell_type": "markdown",
   "id": "4a6b3601",
   "metadata": {},
   "source": [
    "## Exemplo 2: Operações Matemáticas\n",
    "Mostre como realizar operações básicas como soma, subtração, multiplicação e divisão."
   ]
  },
  {
   "cell_type": "code",
   "execution_count": null,
   "id": "bda776dd",
   "metadata": {
    "vscode": {
     "languageId": "c"
    }
   },
   "outputs": [],
   "source": [
    "#include &lt;stdio.h&gt;\n",
    "\n",
    "int main() {\n",
    "    int a = 10, b = 5;\n",
    "    printf(\"Soma: %d\\\\n\", a + b);\n",
    "    printf(\"Subtração: %d\\\\n\", a - b);\n",
    "    printf(\"Multiplicação: %d\\\\n\", a * b);\n",
    "    printf(\"Divisão: %d\\\\n\", a / b);\n",
    "    return 0;\n",
    "}"
   ]
  },
  {
   "cell_type": "markdown",
   "id": "41854202",
   "metadata": {},
   "source": [
    "## Exemplo 3: Estruturas Condicionais\n",
    "Demonstre o uso de if, else if e else em um programa."
   ]
  },
  {
   "cell_type": "code",
   "execution_count": null,
   "id": "c515026a",
   "metadata": {
    "vscode": {
     "languageId": "c"
    }
   },
   "outputs": [],
   "source": [
    "#include &lt;stdio.h&gt;\n",
    "\n",
    "int main() {\n",
    "    int num = 10;\n",
    "\n",
    "    if (num > 0) {\n",
    "        printf(\"O número é positivo.\\\\n\");\n",
    "    } else if (num == 0) {\n",
    "        printf(\"O número é zero.\\\\n\");\n",
    "    } else {\n",
    "        printf(\"O número é negativo.\\\\n\");\n",
    "    }\n",
    "\n",
    "    return 0;\n",
    "}"
   ]
  },
  {
   "cell_type": "markdown",
   "id": "55911983",
   "metadata": {},
   "source": [
    "## Exemplo 4: Laços de Repetição\n",
    "Mostre exemplos de laços for, while e do-while."
   ]
  },
  {
   "cell_type": "code",
   "execution_count": null,
   "id": "50898f5c",
   "metadata": {
    "vscode": {
     "languageId": "c"
    }
   },
   "outputs": [],
   "source": [
    "#include &lt;stdio.h&gt;\n",
    "\n",
    "int main() {\n",
    "    // Exemplo de laço for\n",
    "    for (int i = 0; i < 5; i++) {\n",
    "        printf(\"For loop: %d\\\\n\", i);\n",
    "    }\n",
    "\n",
    "    // Exemplo de laço while\n",
    "    int j = 0;\n",
    "    while (j < 5) {\n",
    "        printf(\"While loop: %d\\\\n\", j);\n",
    "        j++;\n",
    "    }\n",
    "\n",
    "    // Exemplo de laço do-while\n",
    "    int k = 0;\n",
    "    do {\n",
    "        printf(\"Do-While loop: %d\\\\n\", k);\n",
    "        k++;\n",
    "    } while (k < 5);\n",
    "\n",
    "    return 0;\n",
    "}"
   ]
  },
  {
   "cell_type": "markdown",
   "id": "651ab5b2",
   "metadata": {},
   "source": [
    "## Exemplo 5: Funções\n",
    "Crie uma função simples que recebe parâmetros e retorna um valor."
   ]
  },
  {
   "cell_type": "code",
   "execution_count": null,
   "id": "57901a4c",
   "metadata": {
    "vscode": {
     "languageId": "c"
    }
   },
   "outputs": [],
   "source": [
    "#include &lt;stdio.h&gt;\n",
    "\n",
    "// Função que soma dois números\n",
    "int soma(int a, int b) {\n",
    "    return a + b;\n",
    "}\n",
    "\n",
    "int main() {\n",
    "    int resultado = soma(10, 5);\n",
    "    printf(\"Resultado da soma: %d\\\\n\", resultado);\n",
    "    return 0;\n",
    "}"
   ]
  },
  {
   "cell_type": "markdown",
   "id": "215389f5",
   "metadata": {},
   "source": [
    "## Exemplo 6: Arrays\n",
    "Demonstre como declarar, inicializar e acessar elementos de arrays."
   ]
  },
  {
   "cell_type": "code",
   "execution_count": null,
   "id": "c9a776b1",
   "metadata": {
    "vscode": {
     "languageId": "c"
    }
   },
   "outputs": [],
   "source": [
    "#include &lt;stdio.h&gt;\n",
    "\n",
    "int main() {\n",
    "    int numeros[5] = {1, 2, 3, 4, 5};\n",
    "\n",
    "    for (int i = 0; i < 5; i++) {\n",
    "        printf(\"Elemento %d: %d\\\\n\", i, numeros[i]);\n",
    "    }\n",
    "\n",
    "    return 0;\n",
    "}"
   ]
  }
 ],
 "metadata": {
  "language_info": {
   "name": "python"
  }
 },
 "nbformat": 4,
 "nbformat_minor": 5
}
